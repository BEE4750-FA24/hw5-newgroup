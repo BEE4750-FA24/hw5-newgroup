{
 "cells": [
  {
   "cell_type": "markdown",
   "id": "f25056fc-44dd-4baa-88ff-b2e879a9d2c4",
   "metadata": {},
   "source": [
    "# BEE 4750 Homework 5: Mixed Integer and Stochastic Programming\n",
    "\n",
    "**Name**:\n",
    "\n",
    "**ID**:\n",
    "\n",
    "> **Due Date**\n",
    ">\n",
    "> Thursday, 12/05/24, 9:00pm\n",
    "\n",
    "## Overview"
   ]
  },
  {
   "cell_type": "markdown",
   "id": "bdc61f0a-d224-4e85-9d0f-dc78118e17b2",
   "metadata": {},
   "source": [
    "### Instructions\n",
    "\n",
    "-   In Problem 1, you will use mixed integer programming to solve a\n",
    "    waste load allocation problem."
   ]
  },
  {
   "cell_type": "markdown",
   "id": "f28855a0-60d2-442e-b8ef-1ceaee826af6",
   "metadata": {},
   "source": [
    "### Load Environment\n",
    "\n",
    "The following code loads the environment and makes sure all needed\n",
    "packages are installed. This should be at the start of most Julia\n",
    "scripts."
   ]
  },
  {
   "cell_type": "code",
   "execution_count": 1,
   "id": "2",
   "metadata": {},
   "outputs": [
    {
     "name": "stderr",
     "output_type": "stream",
     "text": [
      "\u001b[32m\u001b[1m  Activating\u001b[22m\u001b[39m project at `c:\\Users\\helen\\Documents\\hw5-newgroup`\n",
      "┌ Warning: The active manifest file has dependencies that were resolved with a different julia version (1.10.4). Unexpected behavior may occur.\n",
      "└ @ nothing C:\\Users\\helen\\Documents\\hw5-newgroup\\Manifest.toml:0\n"
     ]
    }
   ],
   "source": [
    "import Pkg\n",
    "Pkg.activate(@__DIR__)\n",
    "Pkg.instantiate()"
   ]
  },
  {
   "cell_type": "code",
   "execution_count": 3,
   "id": "4",
   "metadata": {},
   "outputs": [],
   "source": [
    "using JuMP\n",
    "using HiGHS\n",
    "using DataFrames\n",
    "using GraphRecipes\n",
    "using Plots\n",
    "using Measures\n",
    "using MarkdownTables"
   ]
  },
  {
   "cell_type": "code",
   "execution_count": null,
   "id": "d3fea95a",
   "metadata": {},
   "outputs": [],
   "source": [
    "W = "
   ]
  },
  {
   "cell_type": "markdown",
   "id": "7cd4181d-a987-4e3a-8dad-cfdef5fb6270",
   "metadata": {},
   "source": [
    "## Problems (Total: 30 Points)\n",
    "\n",
    "### Problem 1 (30 points)\n",
    "\n",
    "Three cities are developing a coordinated municipal solid waste (MSW)\n",
    "disposal plan. Three disposal alternatives are being considered: a\n",
    "landfill (LF), a materials recycling facility (MRF), and a\n",
    "waste-to-energy facility (WTE). The capacities of these facilities and\n",
    "the fees for operation and disposal are provided below.\n",
    "\n",
    "-   **LF**: Capacity 200 Mg, fixed cost \\$2000/day, tipping cost\n",
    "    \\$50/Mg;\n",
    "-   **MRF**: Capacity 350 Mg, fixed cost \\$1500/day, tipping cost\n",
    "    \\$7/Mg, recycling cost \\$40/Mg recycled;\n",
    "-   **WTE**: Capacity 210 Mg, fixed cost \\$2500/day, tipping cost\n",
    "    \\$60/Mg;\n",
    "\n",
    "The MRF recycling rate is 40%, and the ash fraction of non-recycled\n",
    "waste is 16% and of recycled waste is 14%. Transportation costs are\n",
    "\\$1.5/Mg-km, and the relative distances between the cities and\n",
    "facilities are provided in the table below.\n",
    "\n",
    "| **City/Facility** | **Landfill (km)** | **MRF (km)** | **WTE (km)** |\n",
    "|:-----------------:|:-----------------:|:------------:|:------------:|\n",
    "|         1         |         5         |      30      |      15      |\n",
    "|         2         |        15         |      25      |      10      |\n",
    "|         3         |        13         |      45      |      20      |\n",
    "|        LF         |        \\-         |      32      |      18      |\n",
    "|        MRF        |        32         |      \\-      |      15      |\n",
    "|        WTE        |        18         |      15      |      \\-      |\n",
    "\n",
    "The fixed costs associated with the disposal options are incurred only\n",
    "if the particular disposal option is implemented. The three cities\n",
    "produce 100, 90, and 120 Mg/day of solid waste, respectively, with the\n",
    "composition provided in the table below.\n",
    "\n",
    "**Reminder**: Use `round(x; digits=n)` to report values to the\n",
    "appropriate precision!\n",
    "\n",
    "**In this problem**:\n",
    "\n",
    "-   Formulate the waste load allocation problem and implement it in\n",
    "    `JuMP`.\n",
    "-   Draw a diagram showing the flows of waste between the cities and the\n",
    "    facilities. Which facilities (if any) will not be used? Does this\n",
    "    solution make sense?"
   ]
  },
  {
   "cell_type": "code",
   "execution_count": 36,
   "id": "cc57329f",
   "metadata": {},
   "outputs": [
    {
     "name": "stdout",
     "output_type": "stream",
     "text": [
      "Running HiGHS 1.8.1 (git hash: 4a7f24ac6): Copyright (c) 2024 HiGHS under MIT licence terms\n",
      "Coefficient ranges:\n",
      "  Matrix [2e-01, 2e+06]\n",
      "  Cost   [6e+01, 2e+03]\n",
      "  Bound  [1e+00, 1e+00]\n",
      "  RHS    [1e+00, 4e+02]\n",
      "Presolving model\n",
      "9 rows, 14 cols, 37 nonzeros  0s\n",
      "8 rows, 13 cols, 35 nonzeros  0s\n",
      "\n",
      "Solving MIP model with:\n",
      "   8 rows\n",
      "   13 cols (2 binary, 0 integer, 0 implied int., 11 continuous)\n",
      "   35 nonzeros\n",
      "MIP-Timing:      0.0035 - starting analytic centre calculation\n",
      "\n",
      "Src: B => Branching; C => Central rounding; F => Feasibility pump; H => Heuristic; L => Sub-MIP;\n",
      "     P => Empty MIP; R => Randomized rounding; S => Solve LP; T => Evaluate node; U => Unbounded;\n",
      "     z => Trivial zero; l => Trivial lower; u => Trivial upper; p => Trivial point\n",
      "\n",
      "        Nodes      |    B&B Tree     |            Objective Bounds              |  Dynamic Constraints |       Work      \n",
      "Src  Proc. InQueue |  Leaves   Expl. | BestBound       BestSol              Gap |   Cuts   InLp Confl. | LpIters     Time\n",
      "\n",
      "         0       0         0   0.00%   2000            inf                  inf        0      0      0         0     0.0s\n",
      " S       0       0         0   0.00%   2000            27792.857143      92.80%        0      0      0         0     0.0s\n",
      "         0       0         0   0.00%   25952.899386    27792.857143       6.62%        0      0      0         6     0.0s\n",
      "         1       0         1 100.00%   27792.857143    27792.857143       0.00%       10      1      0         8     0.0s\n",
      "\n",
      "Solving report\n",
      "  Status            Optimal\n",
      "  Primal bound      27792.8571429\n",
      "  Dual bound        27792.8571429\n",
      "  Gap               0% (tolerance: 0.01%)\n",
      "  P-D integral      0.000236163510435\n",
      "  Solution status   feasible\n",
      "                    27792.8571429 (objective)\n",
      "                    0 (bound viol.)\n",
      "                    0 (int. viol.)\n",
      "                    0 (row viol.)\n",
      "  Timing            0.01 (total)\n",
      "                    0.00 (presolve)\n",
      "                    0.00 (solve)\n",
      "                    0.00 (postsolve)\n",
      "  Max sub-MIP depth 0\n",
      "  Nodes             1\n",
      "  Repair LPs        0 (0 feasible; 0 iterations)\n",
      "  LP iterations     8 (total)\n",
      "                    0 (strong br.)\n",
      "                    1 (separation)\n",
      "                    0 (heuristics)\n",
      "value.(W) = [100.0 0.0 0.0; -0.0 -0.0 90.0; 79.04761904761905 0.0 40.95238095238089]\n",
      "value.(R) = [0.0 0.0 0.0; 0.0 0.0 0.0; 20.952380952380942 0.0 0.0]\n",
      "value.(Y) = [1.0, -0.0, 1.0]\n"
     ]
    },
    {
     "data": {
      "text/plain": [
       "3-element Vector{Float64}:\n",
       "  1.0\n",
       " -0.0\n",
       "  1.0"
      ]
     },
     "metadata": {},
     "output_type": "display_data"
    }
   ],
   "source": [
    "#Define model and decision variables\n",
    "waste_model = Model(HiGHS.Optimizer)\n",
    "\n",
    "@variable(waste_model, W[i = 1:3, j = 1:3] >=0)\n",
    "@variable(waste_model, R[i = 1:3, j = 1:3] >=0)\n",
    "@variable(waste_model, Y[i = 1:3], Bin)\n",
    "\n",
    "#Set objective\n",
    "@objective(waste_model, Min, (2000*Y[1]) + (1500*Y[2]) + (2500*Y[3])\n",
    "+ (57.5*W[1,1]) + (68*W[1,2]) + (82.5*W[1,3])\n",
    "+ (72.5*W[2,1]) + (60.5*W[2,2]) + (75*W[2,3])\n",
    "+ (69.5*W[3,1]) + (90.5*W[3,2]) + (90*W[3,3])\n",
    "+ (98*R[2,1]) + (77*R[3,1]) + (82.5*R[2,3]))\n",
    "\n",
    "#Set constraints\n",
    "\n",
    "#City mass balance constraints\n",
    "@constraint(waste_model,c1mb,  (W[1,1] + W[1,2]+ W[1,3]) == 100)\n",
    "@constraint(waste_model,c2mb, (W[2,1] + W[2,2] + W[2,3]) == 90)\n",
    "@constraint(waste_model,c3mb,  (W[3,1] + W[3,2] + W[3,3]) == 120)\n",
    "\n",
    "#Residual mass balance constraints\n",
    "@constraint(waste_model,WTEres,  R[3,1] == (0.16*(W[1,3] + W[2,3]+ W[3,3] + R[2,3])))\n",
    "@constraint(waste_model,MRFres,  (R[2,3] + R[2,1]) == (0.6*(W[1,2] + W[2,2] + W[3,2])))\n",
    "\n",
    "#Disposal limit constraints\n",
    "@constraint(waste_model,WTEdis,  (W[1,3] + W[2,3] + W[3,3] + R[2,3]) <=210)\n",
    "@constraint(waste_model,MRFdis,  (W[1,2] + W[2,2] + W[3,2]) <= 350)\n",
    "@constraint(waste_model,LFdis,  (W[1,1] + W[2,1] + W[3,1] + R[3,1] + R[2,1]) <= 200)\n",
    "\n",
    "#Commitment constraints\n",
    "@constraint(waste_model,commit1,  Y[1] == 1)\n",
    "@constraint(waste_model, commit2, (W[1,2] + W[2,2] + W[3,2]) <= 2000000*Y[2])\n",
    "@constraint(waste_model, commit3, (W[1,3] + W[2,3] + W[3,3] + R[2,3]) <= (2000000* Y[3]))\n",
    "\n",
    "#print(waste_model)\n",
    "optimize!(waste_model)\n",
    "@show value.(W)\n",
    "@show value.(R)\n",
    "@show value.(Y)"
   ]
  },
  {
   "cell_type": "markdown",
   "id": "b6d659ee-115e-43c3-81d4-56c4aaf92fb7",
   "metadata": {},
   "source": [
    "## References\n",
    "\n",
    "List any external references consulted, including classmates."
   ]
  }
 ],
 "metadata": {
  "kernel_info": {
   "name": "julia"
  },
  "kernelspec": {
   "display_name": "Julia 1.11.2",
   "language": "julia",
   "name": "julia-1.11"
  },
  "language_info": {
   "file_extension": ".jl",
   "mimetype": "application/julia",
   "name": "julia",
   "version": "1.11.2"
  }
 },
 "nbformat": 4,
 "nbformat_minor": 5
}
